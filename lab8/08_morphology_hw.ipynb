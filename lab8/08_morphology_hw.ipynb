{
 "cells": [
  {
   "cell_type": "markdown",
   "metadata": {
    "id": "jM2G-589BE56"
   },
   "source": [
    "## Zadanie domowe: morfologiczna gra w życie – John Conway\n",
    "\n",
    "### Wykorzystanie operacji LUT w przekształceniu trafi, nie trafi\n",
    "  - Szybszą metodą wykonania transformacji trafi, nie trafi może być operacja LUT.\n",
    "  - Technika polega na zakodowaniu wyników wszystkich interesujących  konfiguracji, a następnie podczas przetwarzania wykorzystania operacji LUT.\n",
    "  - Dla otoczenia 3x3 możliwe jest 512 różnych konfiguracji.\n",
    "  - Aby praktycznie zrealizować operacje, każdej konfiguracji należy nadać unikalny indeks. Jedną z możliwości jest pomnożenie elementu strukturalnego przez macierz (mnożenie odpowiednich elementów):\n",
    "  ```\n",
    "  [[1, 8,  64],\n",
    "   [ 2, 16, 128],\n",
    "   [ 4, 32, 256]]\n",
    "  ```\n",
    "  Przykładowo elementowi:\n",
    "  ```\n",
    "  [[1, 1, 0],\n",
    "   [ 1, 0, 1],\n",
    "   [ 1, 0, 1]]\n",
    "  ```\n",
    "  odpowiada liczba: 1(1) + 2(1) + 4(1) + 8(1) + 128(1) + 256(1) = 399.\n",
    "  \n",
    "### Przykład działania metody – detekcja punktów końcowych na obrazie.\n",
    "  - założenie: punkt końcowy to punkt, który ma dokładnie jednego sąsiada,\n",
    "  - zdefiniuj funkcję, która jako argument pobiera otoczenie, a zwraca 0 lub 1 w zależności od tego, czy rozpatrywany punkt jest końcowy np. dla sąsiedztwa 3×3 punkt będzie końcowy, jeżeli jest zapalony i ma tylko jednego sąsiada (czyli suma pikseli jest równa 2).\n",
    "  - wygeneruj przekodowanie LUT.\n",
    "  - wczytaj obraz szkielet.bmp (należy go przekształcić, aby uzyskać dwuwymiarową tablicę o wartościach 0-1). Wykorzystując wygenerowane przekodowanie LUT wykonaj detekcję zakończeń. Wyświetl obraz oryginalny i po przekodowaniu LUT.\n"
   ]
  },
  {
   "cell_type": "code",
   "execution_count": 1,
   "metadata": {
    "id": "pcmAxnpJDENz"
   },
   "outputs": [],
   "source": [
    "import matplotlib.pyplot as plt\n",
    "import cv2\n",
    "import numpy as np\n",
    "import os\n",
    "from itertools import product\n",
    "\n",
    "if not os.path.exists(\"szkielet.bmp\") :\n",
    "    !wget https://raw.githubusercontent.com/vision-agh/poc_sw/master/10_Morphology/szkielet.bmp --no-check-certificate"
   ]
  },
  {
   "cell_type": "code",
   "execution_count": 2,
   "metadata": {},
   "outputs": [],
   "source": [
    "def get_lut_index(context):\n",
    "    return np.sum(context * np.array([2**i for i in range(9)]).reshape(3, 3))"
   ]
  },
  {
   "cell_type": "code",
   "execution_count": 3,
   "metadata": {},
   "outputs": [],
   "source": [
    "def get_lut_table(context_func):\n",
    "    lut_table = [None] * 2**9\n",
    "    \n",
    "    for arragement in product([0, 1], repeat=9):\n",
    "        context = np.array(arragement).reshape(3, 3)\n",
    "        lut_table[get_lut_index(context)] = context_func(context)\n",
    "    \n",
    "    return lut_table"
   ]
  },
  {
   "cell_type": "code",
   "execution_count": 4,
   "metadata": {},
   "outputs": [],
   "source": [
    "def lut_hit_miss(image, lut_table):\n",
    "    transformed = np.zeros(image.shape, dtype='uint8')\n",
    "    width, height = image.shape\n",
    "\n",
    "    for x in range(1, width-1):\n",
    "        for y in range(1, height-1):\n",
    "            context = image[x-1:x+2, y-1:y+2]\n",
    "            transformed[x, y] = lut_table[get_lut_index(context)]\n",
    "    \n",
    "    return transformed"
   ]
  },
  {
   "cell_type": "code",
   "execution_count": 5,
   "metadata": {},
   "outputs": [],
   "source": [
    "szkielet = cv2.cvtColor(cv2.imread('szkielet.bmp'), cv2.COLOR_BGR2GRAY).astype('bool')"
   ]
  },
  {
   "cell_type": "code",
   "execution_count": 6,
   "metadata": {},
   "outputs": [],
   "source": [
    "def is_endpoint(context):\n",
    "    return context[1][1] > 0 and np.sum(context) == 2"
   ]
  },
  {
   "cell_type": "code",
   "execution_count": 7,
   "metadata": {},
   "outputs": [
    {
     "data": {
      "image/png": "[encoded data removed]",
      "text/plain": [
       "<Figure size 864x432 with 2 Axes>"
      ]
     },
     "metadata": {
      "needs_background": "light"
     },
     "output_type": "display_data"
    }
   ],
   "source": [
    "fig, ax = plt.subplots(1, 2, figsize=(12, 6))\n",
    "plt.gray()\n",
    "ax[0].imshow(szkielet)\n",
    "ax[0].axis('off')\n",
    "\n",
    "detected = lut_hit_miss(szkielet, get_lut_table(is_endpoint))\n",
    "ax[1].imshow(detected)\n",
    "ax[1].axis('off')\n",
    "\n",
    "plt.show()"
   ]
  },
  {
   "cell_type": "markdown",
   "metadata": {
    "id": "wrKG-020DGHW"
   },
   "source": [
    "### Gra w życie\n",
    "\n",
    "Reguły gry w życie:\n",
    "  - każdy piksel biały, który ma dwóch lub trzech sąsiadów (białych) przeżywa,\n",
    "  - każdy piksel biały, który ma 0,1 lub więcej niż trzech sąsiadów (białych) nie przeżywa (głód lub przeludnienie),\n",
    "  - jeżeli jakieś pole (czarne) sąsiaduje dokładnie z trzema pikselami białymi, to na tym polu ,,rodzi'' się nowy piksel biały.\n",
    "\n",
    "Zadanie:\n",
    "  - za pomocą mechanizmu LUT (opisanego wcześniej) należy zaimplementować morfologiczną gre w życie,\n",
    "  - najważniejszym elementem jest funkcja opisująca reguły gry,\n",
    "  - symulację należy przeprowadzić dla plansz plansza1 oraz plansza2 (zob. komórka poniżej),\n",
    "  - dobrze jest wykonać kilka iteracji – zobaczyć jak zmienia się kształt,\n",
    "  - inne ciekawe kształty do znalezienia w internecie."
   ]
  },
  {
   "cell_type": "code",
   "execution_count": 8,
   "metadata": {
    "id": "yY7pW1PfCwj2"
   },
   "outputs": [],
   "source": [
    "plansza1 = np.array([\n",
    "    [0,\t0,\t0,\t0,\t0,\t0,\t0,\t0,\t0,\t0],\n",
    "    [0,\t0,\t0,\t0,\t0,\t0,\t0,\t0,\t0,\t0],\n",
    "    [0,\t0,\t0,\t1,\t0,\t0,\t1,\t0,\t0,\t0],\n",
    "    [0,\t0,\t0,\t1,\t1,\t1,\t1,\t0,\t0,\t0],\n",
    "    [0,\t0,\t1,\t0,\t0,\t0,\t0,\t1,\t0,\t0],\n",
    "    [0,\t0,\t1,\t0,\t1,\t1,\t0,\t1,\t0,\t0],\n",
    "    [0,\t0,\t1,\t0,\t0,\t0,\t0,\t1,\t0,\t0],\n",
    "    [0,\t0,\t0,\t1,\t1,\t1,\t1,\t0,\t0,\t0],\n",
    "    [0,\t0,\t0,\t0,\t0,\t0,\t0,\t0,\t0,\t0],\n",
    "    [0,\t0,\t0,\t0,\t0,\t0,\t0,\t0,\t0,\t0]], np.uint8)\n",
    "\n",
    "plansza2 = np.array([\n",
    "    [0,\t1,\t0,\t0,\t0,\t0,\t0,\t0,\t0,\t0,\t0,\t0,\t0,\t0,\t1,\t1],\n",
    "    [0,\t0,\t1,\t0,\t0,\t0,\t0,\t0,\t0,\t0,\t0,\t0,\t0,\t0,\t1,\t1],\n",
    "    [1,\t1,\t1,\t0,\t0,\t0,\t0,\t0,\t0,\t0,\t0,\t0,\t0,\t0,\t0,\t0],\n",
    "    [0,\t0,\t0,\t0,\t0,\t0,\t0,\t0,\t0,\t0,\t0,\t0,\t0,\t0,\t0,\t0],\n",
    "    [0,\t0,\t0,\t0,\t0,\t0,\t0,\t0,\t0,\t0,\t0,\t0,\t0,\t0,\t0,\t0],\n",
    "    [0,\t0,\t0,\t0,\t0,\t0,\t0,\t0,\t0,\t0,\t0,\t0,\t0,\t0,\t0,\t0],\n",
    "    [0,\t0,\t0,\t0,\t0,\t0,\t0,\t0,\t0,\t0,\t0,\t0,\t0,\t0,\t0,\t0],\n",
    "    [0,\t0,\t0,\t0,\t0,\t0,\t0,\t0,\t0,\t0,\t0,\t0,\t0,\t0,\t0,\t0],\n",
    "    [0,\t0,\t0,\t0,\t0,\t0,\t0,\t0,\t0,\t0,\t0,\t0,\t0,\t0,\t0,\t0],\n",
    "    [0,\t0,\t0,\t0,\t0,\t0,\t0,\t0,\t0,\t0,\t0,\t0,\t0,\t0,\t0,\t0],\n",
    "    [0,\t0,\t0,\t0,\t0,\t0,\t0,\t0,\t0,\t0,\t0,\t0,\t0,\t0,\t0,\t0],\n",
    "    [0,\t0,\t0,\t0,\t0,\t0,\t0,\t0,\t0,\t0,\t0,\t0,\t0,\t0,\t0,\t0],\n",
    "    [0,\t0,\t0,\t0,\t0,\t0,\t0,\t0,\t0,\t0,\t0,\t0,\t0,\t0,\t0,\t0]], np.uint8)"
   ]
  },
  {
   "cell_type": "code",
   "execution_count": 14,
   "metadata": {},
   "outputs": [],
   "source": [
    "def game_rules(context):\n",
    "    if context[1, 1] and np.sum(context) in {3, 4}:\n",
    "        return 1\n",
    "    if not context[1, 1] and np.sum(context) == 3:\n",
    "        return 1\n",
    "    \n",
    "    return 0"
   ]
  },
  {
   "cell_type": "code",
   "execution_count": 16,
   "metadata": {
    "scrolled": false
   },
   "outputs": [
    {
     "data": {
      "image/png": "[encoded data removed]",
      "text/plain": [
       "<Figure size 432x288 with 1 Axes>"
      ]
     },
     "metadata": {
      "needs_background": "light"
     },
     "output_type": "display_data"
    },
    {
     "data": {
      "image/png": "[encoded data removed]",
      "text/plain": [
       "<Figure size 432x288 with 1 Axes>"
      ]
     },
     "metadata": {
      "needs_background": "light"
     },
     "output_type": "display_data"
    },
    {
     "data": {
      "image/png": "[encoded data removed]",
      "text/plain": [
       "<Figure size 432x288 with 1 Axes>"
      ]
     },
     "metadata": {
      "needs_background": "light"
     },
     "output_type": "display_data"
    },
    {
     "data": {
      "image/png": "[encoded data removed]",
      "text/plain": [
       "<Figure size 432x288 with 1 Axes>"
      ]
     },
     "metadata": {
      "needs_background": "light"
     },
     "output_type": "display_data"
    },
    {
     "data": {
      "image/png": "[encoded data removed]",
      "text/plain": [
       "<Figure size 432x288 with 1 Axes>"
      ]
     },
     "metadata": {
      "needs_background": "light"
     },
     "output_type": "display_data"
    }
   ],
   "source": [
    "image = plansza1\n",
    "game_lut_table = get_lut_table(game_rules)\n",
    "\n",
    "for _ in range(5):\n",
    "    plt.imshow(image)\n",
    "    plt.axis('off')\n",
    "    plt.show()\n",
    "    \n",
    "    image = lut_hit_miss(image, game_lut_table)"
   ]
  },
  {
   "cell_type": "code",
   "execution_count": 17,
   "metadata": {
    "scrolled": false
   },
   "outputs": [
    {
     "data": {
      "image/png": "[encoded data removed]",
      "text/plain": [
       "<Figure size 432x288 with 1 Axes>"
      ]
     },
     "metadata": {
      "needs_background": "light"
     },
     "output_type": "display_data"
    },
    {
     "data": {
      "image/png": "[encoded data removed]",
      "text/plain": [
       "<Figure size 432x288 with 1 Axes>"
      ]
     },
     "metadata": {
      "needs_background": "light"
     },
     "output_type": "display_data"
    },
    {
     "data": {
      "image/png": "[encoded data removed]",
      "text/plain": [
       "<Figure size 432x288 with 1 Axes>"
      ]
     },
     "metadata": {
      "needs_background": "light"
     },
     "output_type": "display_data"
    },
    {
     "data": {
      "image/png": "[encoded data removed]",
      "text/plain": [
       "<Figure size 432x288 with 1 Axes>"
      ]
     },
     "metadata": {
      "needs_background": "light"
     },
     "output_type": "display_data"
    },
    {
     "data": {
      "image/png": "[encoded data removed]",
      "text/plain": [
       "<Figure size 432x288 with 1 Axes>"
      ]
     },
     "metadata": {
      "needs_background": "light"
     },
     "output_type": "display_data"
    }
   ],
   "source": [
    "image = plansza2\n",
    "\n",
    "for _ in range(5):\n",
    "    plt.imshow(image)\n",
    "    plt.axis('off')\n",
    "    plt.show()\n",
    "    \n",
    "    image = lut_hit_miss(image, game_lut_table)"
   ]
  },
  {
   "cell_type": "code",
   "execution_count": 18,
   "metadata": {},
   "outputs": [],
   "source": [
    "extended_plansza2 = np.zeros((plansza2.shape[0]+2, plansza2.shape[1]+2), dtype='uint8')\n",
    "extended_plansza2[1:-1, 1:-1] = plansza2"
   ]
  },
  {
   "cell_type": "code",
   "execution_count": 19,
   "metadata": {},
   "outputs": [
    {
     "data": {
      "image/png": "[encoded data removed]",
      "text/plain": [
       "<Figure size 432x288 with 1 Axes>"
      ]
     },
     "metadata": {
      "needs_background": "light"
     },
     "output_type": "display_data"
    },
    {
     "data": {
      "image/png": "[encoded data removed]",
      "text/plain": [
       "<Figure size 432x288 with 1 Axes>"
      ]
     },
     "metadata": {
      "needs_background": "light"
     },
     "output_type": "display_data"
    },
    {
     "data": {
      "image/png": "[encoded data removed]",
      "text/plain": [
       "<Figure size 432x288 with 1 Axes>"
      ]
     },
     "metadata": {
      "needs_background": "light"
     },
     "output_type": "display_data"
    },
    {
     "data": {
      "image/png": "[encoded data removed]",
      "text/plain": [
       "<Figure size 432x288 with 1 Axes>"
      ]
     },
     "metadata": {
      "needs_background": "light"
     },
     "output_type": "display_data"
    },
    {
     "data": {
      "image/png": "[encoded data removed]",
      "text/plain": [
       "<Figure size 432x288 with 1 Axes>"
      ]
     },
     "metadata": {
      "needs_background": "light"
     },
     "output_type": "display_data"
    }
   ],
   "source": [
    "image = extended_plansza2\n",
    "\n",
    "for _ in range(5):\n",
    "    plt.imshow(image)\n",
    "    plt.axis('off')\n",
    "    plt.show()\n",
    "    \n",
    "    image = lut_hit_miss(image, game_lut_table)"
   ]
  },
  {
   "cell_type": "code",
   "execution_count": null,
   "metadata": {},
   "outputs": [],
   "source": []
  }
 ],
 "metadata": {
  "celltoolbar": "Raw Cell Format",
  "colab": {
   "name": "08_morphology_hw.ipynb",
   "provenance": []
  },
  "kernelspec": {
   "display_name": "Python 3 (ipykernel)",
   "language": "python",
   "name": "python3"
  },
  "language_info": {
   "codemirror_mode": {
    "name": "ipython",
    "version": 3
   },
   "file_extension": ".py",
   "mimetype": "text/x-python",
   "name": "python",
   "nbconvert_exporter": "python",
   "pygments_lexer": "ipython3",
   "version": "3.9.9"
  }
 },
 "nbformat": 4,
 "nbformat_minor": 1
}
